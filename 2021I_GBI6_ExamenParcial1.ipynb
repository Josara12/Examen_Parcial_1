{
 "cells": [
  {
   "cell_type": "markdown",
   "metadata": {},
   "source": [
    "<img src=\"https://www.ikiam.edu.ec/img/logo-ikiam-grey.png\" width=300 height=240 />\n",
    "\n",
    "# EXAMEN PARCIAL 1\n",
    "\n",
    "## GBI6-2021II: BIOINFORMÁTICA\n",
    "\n",
    "**Gaibor Cobos,Sarai Josabeth** <--- CAMBIE POR LOS QUE CORRESPONDA A SUS DATOS\n",
    "\n",
    "**11-01-2021**"
   ]
  },
  {
   "cell_type": "markdown",
   "metadata": {},
   "source": [
    "<font color='red'>NO AGREGUE NUEVAS CELDAS, UTILICE ÚNICAMENTE LAS QUE ESTÁN CREADAS</font>"
   ]
  },
  {
   "cell_type": "markdown",
   "metadata": {},
   "source": [
    "# 1. UNIX\n",
    "\n",
    "## Ejercicio 1\n",
    "#### Seleccione la opción el código que imprime el texto: Hola GBI6\n",
    "\n",
    "<img src=\"data/Ejercicio1.jpeg\" width=600 height=450 />\n",
    "\n",
    "\n",
    "\n",
    "## Ejercicio 2\n",
    "#### Para esta pregunta debe realizar previamente lo siguiente: \n",
    "\n",
    "#### 1.Imprimir el directorio de trabajo actual \n",
    "#### 2.Crear un directorio test1\n",
    "#### 3.No cambie de directorio, pero los items 4, 5 y 6 deben guardarse en el directorio creado en el paso 2. \n",
    "#### 4.Crear el archivo test1.txt\n",
    "#### 5.Guardar el texto Hola GBI6 en un archivo test2.txt\n",
    "#### 6.Guardar la instrucción print(\"Hola GBI6\")  en el archivo test1.py\n",
    "#### Luego seleccione la instrucción que enlista los archivos del directorio test1 y luego imprima el contenido de test2.txt\n",
    "\n",
    "\n",
    "<img src=\"data/Ejercicio2.jpeg\" width=600 height=450 />\n",
    "\n",
    "#### Para colocar texto dentro de nuestro archivo se utilizó comando: nano\n",
    "\n",
    "\n",
    "## Ejercicio 3\n",
    "#### Para esta pregunta debe realizar previamente lo siguiente: \n",
    "\n",
    "#### 1.Imprimir el directorio de trabajo actual \n",
    "#### 2.Crear un directorio test1\n",
    "#### 3.No cambie de directorio, pero los items 4, 5 y 6 deben guardarse en el directorio creado en el paso 2. \n",
    "#### 4.Crear el archivo test1.txt\n",
    "#### 5.Guardar el texto Hola GBI6 en un archivo test2.txt\n",
    "#### 6.Guardar la instrucción print(\"Hola GBI6\")  en el archivo test1.py\n",
    "#### Luego seleccione la instrucción que permite enlistar el contenido (sin detalles) del directorio test1\n",
    "\n",
    "<img src=\"data/ejercicio3.jpeg\" width=600 height=450 />\n",
    "\n",
    "\n",
    "## Ejercicio 4\n",
    "#### Resuelva el ejercicio 1.10.1 Next Generation Sequencing Data. \n",
    "\n",
    "#### Resuelva el ejercicio en un documento de nombre ejercicio_1101.sh\n",
    "#### Cargue el documento ejercicio_1101.sh en GitHub utilizando git push. \n",
    "#### Realice el video explicativo de la resolución ejercicio y guarde en YouTube en formato \"Público\" o \"Unlisted\", y pegue el enlace en el cuaderno de Jupyter.\n",
    "#### La respuesta a este ejercicio es el enlace en GitHub de su archivo: ejercicio_1101.sh \n"
   ]
  },
  {
   "cell_type": "code",
   "execution_count": 21,
   "metadata": {},
   "outputs": [
    {
     "data": {
      "text/html": [
       "<iframe width=\"560\" height=\"315\" src=\"https://www.youtube.com/embed/9ck5iEP03g4\" title=\"YouTube video player\" frameborder=\"0\" allow=\"accelerometer; autoplay; clipboard-write; encrypted-media; gyroscope; picture-in-picture\" allowfullscreen></iframe>"
      ],
      "text/plain": [
       "<IPython.core.display.HTML object>"
      ]
     },
     "execution_count": 21,
     "metadata": {},
     "output_type": "execute_result"
    }
   ],
   "source": [
    "# Coloque aquí su video del ejercicio 4\n",
    "from IPython.display import HTML\n",
    "HTML('<iframe width=\"560\" height=\"315\" src=\"https://www.youtube.com/embed/9ck5iEP03g4\" title=\"YouTube video player\" frameborder=\"0\" allow=\"accelerometer; autoplay; clipboard-write; encrypted-media; gyroscope; picture-in-picture\" allowfullscreen></iframe>')\n"
   ]
  },
  {
   "cell_type": "markdown",
   "metadata": {},
   "source": [
    "\n",
    "\n",
    "## Ejercicio 5\n",
    "#### Resuelva el ejercicio 1.10.4 Data Explorer. \n",
    "\n",
    "#### Resuelva el ejercicio en un documento de nombre ejercicio_1104.sh\n",
    "#### Cargue el documento ejercicio_1104.sh en GitHub utilizando git push. \n",
    "#### Realice el video explicativo de la resolución ejercicio y guarde en YouTube en formato \"Público\" o \"Unlisted\", y pegue el enlace en el cuaderno de Jupyter.\n",
    "#### La respuesta a este ejercicio es el enlace en GitHub de su archivo: ejercicio_1104.sh \n"
   ]
  },
  {
   "cell_type": "code",
   "execution_count": 5,
   "metadata": {},
   "outputs": [
    {
     "data": {
      "text/html": [
       "<iframe width=\"560\" height=\"315\" src=\"https://www.youtube.com/embed/3XlZWpLwvvo\" title=\"YouTube video player\" frameborder=\"0\" allow=\"accelerometer; autoplay; clipboard-write; encrypted-media; gyroscope; picture-in-picture\" allowfullscreen></iframe>"
      ],
      "text/plain": [
       "<IPython.core.display.HTML object>"
      ]
     },
     "execution_count": 5,
     "metadata": {},
     "output_type": "execute_result"
    }
   ],
   "source": [
    "# Coloque aquí su video del ejercicio 5\n",
    "from IPython.display import HTML\n",
    "HTML('<iframe width=\"560\" height=\"315\" src=\"https://www.youtube.com/embed/3XlZWpLwvvo\" title=\"YouTube video player\" frameborder=\"0\" allow=\"accelerometer; autoplay; clipboard-write; encrypted-media; gyroscope; picture-in-picture\" allowfullscreen></iframe>')\n"
   ]
  },
  {
   "cell_type": "markdown",
   "metadata": {
    "jp-MarkdownHeadingCollapsed": true,
    "tags": []
   },
   "source": [
    "Escriba aquí alguna explicación del ejercicio 5 si lo considera necesario (borre esta línea cuando finalice)\n",
    "\n",
    "# 2. CONTROL DE LA VERSIÓN\n",
    "## Pregunta 6\n",
    "1. Cree en GitHub un repositorio de nombre ```GBI6_ExamenParcial1```. \n",
    "2. Cree un archivo ```Readme.md``` que debe tener lo siguiente: \n",
    "- Datos personales\n",
    "- Características del computador\n",
    "- Programas utilizados\n",
    "- Explicación de la data utilizada\n",
    "\n",
    "\n",
    "## Pregunta 7\n",
    "1. Cada vez que resuelva un ejercicio (del 1 al 10), utilizando Git Bash, GitHub Desktop o Atom realice un *git push* con el mensaje: \n",
    "\n",
    "\n",
    "<font color='red'>Apellido Nombre ha resuelto el ejercicio 1</font> % Cambie con sus apellidos y nombres; y con el número de ejercicio que corresponda \n",
    "\n",
    "2. Coloque aquí las capturas de pantalla para cada git push realizado desde Git Bash, GitHub Desktop o Atom. \n",
    "\n",
    "- Control de versión ejercicio 1\n",
    "\n",
    "<img src=\"Ejercicio7_git/Ejercicio1.jpeg\" width=600 height=450 />\n",
    "\n",
    "- Control de versión ejercicio 2\n",
    "\n",
    "<img src=\"Ejercicio7_git/Ejercicio2.jpeg\" width=600 height=450 />\n",
    "\n",
    "- Control de versión ejercicio 3\n",
    "\n",
    "<img src=\"Ejercicio7_git/Ejercicio3.jpeg\" width=600 height=450 />\n",
    "\n",
    "- Control de versión ejercicio 4\n",
    "\n",
    "<img src=\"Ejercicio7_git/Ejercicio4.jpeg\" width=600 height=450 />\n",
    "\n",
    "- Control de versión ejercicio 5\n",
    "\n",
    "<img src=\"Ejercicio7_git/Ejercicio5.jpeg\" width=600 height=450 />\n",
    "\n",
    "- Control de versión ejercicio 8\n",
    "\n",
    "<img src=\"Ejercicio7_git/Ejercicio8.jpeg\" width=600 height=450 />\n",
    "\n",
    "- Control de versión ejercicio 9\n",
    "\n",
    "<img src=\"Ejercicio7_git/Ejercicio9.jpeg\" width=600 height=450 />\n",
    "\n",
    "- Control de versión ejercicio 10\n",
    "\n",
    "<img src=\"Ejercicio7_git/Ejercicio10.jpeg\" width=600 height=450 />\n",
    "\n",
    "\n",
    "3. Cree un directorio de nombre ```data``` donde deben estar guardados: (i) la data utilizada y (ii) las capturas de pantalla de los ejercicios 1 al 3 y los git push del ejercicio 1 al 10 (en total debe tener 13 imágenes). \n",
    "4. Inserte aquí el enlace de su repositorio (válido para el ejercicio 6 y 7): [GitHub Repository: GBI6_ExamenParcial1](https://github.com/gualapuromoises/2021_gbi6.git) (este enlace es de ejemplo)"
   ]
  },
  {
   "cell_type": "markdown",
   "metadata": {},
   "source": [
    "# 3. INTRODUCCIÓN A PYTHON\n",
    "\n",
    "## Ejercicio 8\n",
    "\n",
    "#### Para este ejercicio tiene que crear previamente lo siguiente: \n",
    "\n",
    "#### En la data https://github.com/sap0408/mtcars/blob/master/mtcars.csv, seleccione los 10 primeros registros y cree una lista de nombre lista1.\n",
    "\n",
    "#### Relaciones los códigos y las respuestas que salen al ejecutar. "
   ]
  },
  {
   "cell_type": "code",
   "execution_count": 102,
   "metadata": {},
   "outputs": [
    {
     "name": "stdout",
     "output_type": "stream",
     "text": [
      "12\n",
      "gbi6\n",
      "[22.8, 4, 108, 93, 3.85, 2.32, 18.61, 1, 1, 4, 1]\n",
      "[21, 6, 160, 110, 3.9, 2.875, 17.02, 0, 1, 4, 4]\n",
      "[[2, 6, 160, 110, 3.9, 2.62, 16.46, 0, 1, 4, 4], [21, 6, 160, 110, 3.9, 2.875, 17.02, 0, 1, 4, 4], [22.8, 4, 108, 93, 3.85, 2.32, 18.61, 1, 1, 4, 1]]\n",
      "[['model', 'mpg', 'cyl', 'disp', 'hp', 'drat', 'wt', 'qsec', 'vc', 'am', 'gear', 'carb'], ['Mazda RX4', 'Mazda RX4 Wag', 'Detsun 710', 'Hornet 4 Drive', 'Hornet Sportabout', 'Valiant', 'Duster 360', 'Duster 360', 'Merc 240D', 'Merc 230'], [2, 6, 160, 110, 3.9, 2.62, 16.46, 0, 1, 4, 4], [21, 6, 160, 110, 3.9, 2.875, 17.02, 0, 1, 4, 4], [22.8, 4, 108, 93, 3.85, 2.32, 18.61, 1, 1, 4, 1], [21.4, 6, 258, 110, 3.08, 3.215, 19.44, 1, 0, 1], [18.7, 8, 360, 175, 3.15, 3.44, 17.02, 0, 0, 3, 2], [18.1, 6, 225, 105, 2.76, 3.46, 20.22, 1, 0, 3, 1], [14, 3, 8, 360, 245, 3.21, 3.57, 15.84, 0, 0, 3, 4], [24.4, 4, 146.7, 62, 3.69, 3.19, 20, 1, 0, 4, 2], [22.8, 4, 140.8, 95, 3.92, 3.15, 22.9, 1, 0, 4, 2]]\n"
     ]
    }
   ],
   "source": [
    "lista1 =[[\"model\",\"mpg\",\"cyl\",\"disp\",\"hp\",\"drat\",\"wt\",\"qsec\",\"vc\",\"am\",\"gear\", \"carb\" ],\n",
    "         [\"Mazda RX4\",\"Mazda RX4 Wag\", \"Detsun 710\", \"Hornet 4 Drive\", \"Hornet Sportabout\", \"Valiant\", \"Duster 360\", \"Duster 360\", \"Merc 240D\", \"Merc 230\"],\n",
    "         [2, 6, 160, 110, 3.9, 2.62, 16.46, 0, 1, 4, 4],\n",
    "         [21, 6, 160, 110, 3.9, 2.875, 17.02, 0, 1, 4, 4], \n",
    "         [22.8, 4, 108, 93, 3.85, 2.32, 18.61, 1, 1, 4, 1], \n",
    "         [21.4, 6, 258, 110, 3.08, 3.215, 19.44, 1, 0, 1],\n",
    "         [18.7, 8, 360, 175, 3.15, 3.44, 17.02, 0, 0, 3, 2],\n",
    "         [18.1, 6, 225, 105, 2.76, 3.46, 20.22, 1, 0, 3, 1], \n",
    "         [14,3, 8, 360, 245, 3.21, 3.57, 15.84, 0, 0, 3, 4], \n",
    "         [24.4, 4, 146.7, 62, 3.69, 3.19, 20, 1, 0, 4, 2],\n",
    "         [22.8, 4, 140.8, 95, 3.92, 3.15, 22.9, 1, 0, 4, 2]]\n",
    "lista1.append([\"gbi6\",\"bio1\",\"ikiam\"])\n",
    "print (len(lista1)) \n",
    "\n",
    "lista1 =[[\"model\",\"mpg\",\"cyl\",\"disp\",\"hp\",\"drat\",\"wt\",\"qsec\",\"vc\",\"am\",\"gear\", \"carb\" ],\n",
    "         [\"Mazda RX4\",\"Mazda RX4 Wag\", \"Detsun 710\", \"Hornet 4 Drive\", \"Hornet Sportabout\", \"Valiant\", \"Duster 360\", \"Duster 360\", \"Merc 240D\", \"Merc 230\"],\n",
    "         [2, 6, 160, 110, 3.9, 2.62, 16.46, 0, 1, 4, 4],\n",
    "         [21, 6, 160, 110, 3.9, 2.875, 17.02, 0, 1, 4, 4], \n",
    "         [22.8, 4, 108, 93, 3.85, 2.32, 18.61, 1, 1, 4, 1], \n",
    "         [21.4, 6, 258, 110, 3.08, 3.215, 19.44, 1, 0, 1],\n",
    "         [18.7, 8, 360, 175, 3.15, 3.44, 17.02, 0, 0, 3, 2],\n",
    "         [18.1, 6, 225, 105, 2.76, 3.46, 20.22, 1, 0, 3, 1], \n",
    "         [14,3, 8, 360, 245, 3.21, 3.57, 15.84, 0, 0, 3, 4], \n",
    "         [24.4, 4, 146.7, 62, 3.69, 3.19, 20, 1, 0, 4, 2],\n",
    "         [22.8, 4, 140.8, 95, 3.92, 3.15, 22.9, 1, 0, 4, 2]]\n",
    "lista1.append([\"gbi6\",\"bio1\",\"ikiam\"])\n",
    "print (lista1[-1][-3])\n",
    "\n",
    "lista1 =[[\"model\",\"mpg\",\"cyl\",\"disp\",\"hp\",\"drat\",\"wt\",\"qsec\",\"vc\",\"am\",\"gear\", \"carb\" ],\n",
    "         [\"Mazda RX4\",\"Mazda RX4 Wag\", \"Detsun 710\", \"Hornet 4 Drive\", \"Hornet Sportabout\", \"Valiant\", \"Duster 360\", \"Duster 360\", \"Merc 240D\", \"Merc 230\"],\n",
    "         [2, 6, 160, 110, 3.9, 2.62, 16.46, 0, 1, 4, 4],\n",
    "         [21, 6, 160, 110, 3.9, 2.875, 17.02, 0, 1, 4, 4], \n",
    "         [22.8, 4, 108, 93, 3.85, 2.32, 18.61, 1, 1, 4, 1], \n",
    "         [21.4, 6, 258, 110, 3.08, 3.215, 19.44, 1, 0, 1],\n",
    "         [18.7, 8, 360, 175, 3.15, 3.44, 17.02, 0, 0, 3, 2],\n",
    "         [18.1, 6, 225, 105, 2.76, 3.46, 20.22, 1, 0, 3, 1], \n",
    "         [14,3, 8, 360, 245, 3.21, 3.57, 15.84, 0, 0, 3, 4], \n",
    "         [24.4, 4, 146.7, 62, 3.69, 3.19, 20, 1, 0, 4, 2],\n",
    "         [22.8, 4, 140.8, 95, 3.92, 3.15, 22.9, 1, 0, 4, 2]]\n",
    "print (lista1[4])\n",
    "print (lista1[3])\n",
    "print (lista1[2:5])\n",
    "\n",
    "\n",
    "\n",
    "\n"
   ]
  },
  {
   "cell_type": "markdown",
   "metadata": {},
   "source": [
    "## Ejercicio 9\n",
    "\n",
    "#### Para este ejercicio tiene que crear previamente lo siguiente: \n",
    "\n",
    "#### Una lista de nombre lista1 que tenga a las 10 primeras letras del alfabeto.\n",
    "#### Relaciones los códigos y las respuestas que salen al ejecutar. "
   ]
  },
  {
   "cell_type": "code",
   "execution_count": 65,
   "metadata": {},
   "outputs": [
    {
     "name": "stdout",
     "output_type": "stream",
     "text": [
      "['a', 'b', 'c', 'd', 'e', 'f', 'g', 'h', 'i', 'j']\n",
      "['a', 'b', 'c', 'd', 'e', 'f', 'g', 'h', 'i', 'j', ['gbi6', 'bio1', 'ikiam']]\n"
     ]
    },
    {
     "data": {
      "text/plain": [
       "12"
      ]
     },
     "execution_count": 93,
     "metadata": {},
     "output_type": "execute_result"
    }
   ],
   "source": [
    "lista1 = [\"a\", \"b\", \"c\", \"d\", \"e\", \"f\", \"g\", \"h\", \"i\", \"j\"]\n",
    "print(lista1)\n",
    "#Me da el valor que está ubicado en el puesto 3\n",
    "lista1[3]\n",
    "\n",
    "#Agrego a mi lista lo solicitado \n",
    "lista1.append([\"gbi6\", \"bio1\", \"ikiam\"])\n",
    "print(lista1)\n",
    "#Llamo al último elemento que se encuentra en la lista\n",
    "lista1[-1][-1]\n",
    "\n",
    "#LLamo a los elementos que se encuentras entre esa ubicación\n",
    "lista1[2:5]\n",
    "\n",
    "#Agrego a mi lista lo solicitado\n",
    "lista1.append([\"gbi6\", \"bio1\", \"ikiam\"])\n",
    "#Conteo de s elementos exitentes\n",
    "len(lista1) ##En el examen la respuesta 12 en este literal no se encuentra,así que puse 13, \n",
    "#cabe recarlar, que python comienza contando desde cero, es por eso que tendremos 12 elementos en esta lista."
   ]
  },
  {
   "cell_type": "markdown",
   "metadata": {},
   "source": [
    "## Ejercicio 10\n",
    "\n",
    "#### Para este ejercicio debe debe realizar lo siguiente:\n",
    "\n",
    "#### Crear un diccionario de nombre dic_genomas, donde se tenga la información de la tabla 1 que se encuentra en https://www.nature.com/scitable/topicpage/eukaryotic-genome-complexity-437/. \n",
    "#### Utilice como \"key\" los valores especie de la columna \"Species and Common Name\" y las otras dos columnas ingrese como \"values\". \n",
    "#### Luego de crear el diccionario, extraiga los valores de \"key\" a una lista de nombre \"especies\"\n",
    "#### Extraiga los valores de \"value\" a una lista de nombre \"genomas\"\n",
    "#### Para evaluar esta pregunta realice un git push del Jupyter Notebook al repositorio del examen."
   ]
  },
  {
   "cell_type": "code",
   "execution_count": 69,
   "metadata": {},
   "outputs": [],
   "source": [
    "dic_genomas = {\"Saccharomyces cerevisiae\": (\"12 million\", 6.000),\n",
    "                   \"Trichomonas vaginalis\": (\"160 million\", 60.000), \n",
    "                   \"Plasmodium falciparum\": (\"23 million\", 5.000),\n",
    "                   \"Caenorhabditis elegans\": (\"95.5 million\", 18.000),\n",
    "              \"Drosophila melanogaster\": (\"170 million\", 14.000),\n",
    "              \"Arabidopsis thaliana\":(\"125 million\", 25.000),\n",
    "              \"Oryza sativa\": (\"470 million\", 51.000),\n",
    "              \"Gallus gallus\": (\"1 billion\", 20.000-23.000),\n",
    "              \"Canis familiaris\":(\"2.4 billion\", 19.000),\n",
    "              \"Mus musculus\": (\"2.5 billion\", 30.000),\n",
    "              \"Homo sapiens\": (\"2.9 billion\", 20000-25.000)}\n"
   ]
  },
  {
   "cell_type": "code",
   "execution_count": 70,
   "metadata": {},
   "outputs": [
    {
     "data": {
      "text/plain": [
       "{'Saccharomyces cerevisiae': ('12 million', 6.0),\n",
       " 'Trichomonas vaginalis': ('160 million', 60.0),\n",
       " 'Plasmodium falciparum': ('23 million', 5.0),\n",
       " 'Caenorhabditis elegans': ('95.5 million', 18.0),\n",
       " 'Drosophila melanogaster': ('170 million', 14.0),\n",
       " 'Arabidopsis thaliana': ('125 million', 25.0),\n",
       " 'Oryza sativa': ('470 million', 51.0),\n",
       " 'Gallus gallus': ('1 billion', -3.0),\n",
       " 'Canis familiaris': ('2.4 billion', 19.0),\n",
       " 'Mus musculus': ('2.5 billion', 30.0),\n",
       " 'Homo sapiens': ('2.9 billion', 19975.0)}"
      ]
     },
     "execution_count": 70,
     "metadata": {},
     "output_type": "execute_result"
    }
   ],
   "source": [
    "dic_genomas"
   ]
  },
  {
   "cell_type": "code",
   "execution_count": 73,
   "metadata": {},
   "outputs": [
    {
     "data": {
      "text/plain": [
       "{'Saccharomyces cerevisiae': ('12 million', 6.0),\n",
       " 'Trichomonas vaginalis': ('160 million', 60.0),\n",
       " 'Plasmodium falciparum': ('23 million', 5.0),\n",
       " 'Caenorhabditis elegans': ('95.5 million', 18.0),\n",
       " 'Drosophila melanogaster': ('170 million', 14.0),\n",
       " 'Arabidopsis thaliana': ('125 million', 25.0),\n",
       " 'Oryza sativa': ('470 million', 51.0),\n",
       " 'Gallus gallus': ('1 billion', -3.0),\n",
       " 'Canis familiaris': ('2.4 billion', 19.0),\n",
       " 'Mus musculus': ('2.5 billion', 30.0),\n",
       " 'Homo sapiens': ('2.9 billion', 19975.0)}"
      ]
     },
     "execution_count": 73,
     "metadata": {},
     "output_type": "execute_result"
    }
   ],
   "source": [
    "# Creo una copia de mi diccionario \n",
    "GS = dic_genomas.copy()\n",
    "GS"
   ]
  },
  {
   "cell_type": "code",
   "execution_count": 84,
   "metadata": {
    "tags": []
   },
   "outputs": [],
   "source": [
    "#Con .keys Retorna una lista de elementos, los cuales serán los keys de nuestro diccionario.\n",
    "especie = GS.keys()\n",
    "especie"
   ]
  },
  {
   "cell_type": "code",
   "execution_count": 87,
   "metadata": {
    "tags": []
   },
   "outputs": [
    {
     "data": {
      "text/plain": [
       "dict_values([('12 million', 6.0), ('160 million', 60.0), ('23 million', 5.0), ('95.5 million', 18.0), ('170 million', 14.0), ('125 million', 25.0), ('470 million', 51.0), ('1 billion', -3.0), ('2.4 billion', 19.0), ('2.5 billion', 30.0), ('2.9 billion', 19975.0)])"
      ]
     },
     "execution_count": 87,
     "metadata": {},
     "output_type": "execute_result"
    }
   ],
   "source": [
    "#Con .values Retorna una lista de elementos, que serán los valores de nuestro diccionario.\n",
    "genomas = GS.values()\n",
    "genomas"
   ]
  },
  {
   "cell_type": "code",
   "execution_count": null,
   "metadata": {},
   "outputs": [],
   "source": []
  },
  {
   "cell_type": "code",
   "execution_count": null,
   "metadata": {},
   "outputs": [],
   "source": []
  },
  {
   "cell_type": "code",
   "execution_count": null,
   "metadata": {},
   "outputs": [],
   "source": []
  }
 ],
 "metadata": {
  "kernelspec": {
   "display_name": "Python 3 (ipykernel)",
   "language": "python",
   "name": "python3"
  },
  "language_info": {
   "codemirror_mode": {
    "name": "ipython",
    "version": 3
   },
   "file_extension": ".py",
   "mimetype": "text/x-python",
   "name": "python",
   "nbconvert_exporter": "python",
   "pygments_lexer": "ipython3",
   "version": "3.9.7"
  },
  "latex_envs": {
   "LaTeX_envs_menu_present": true,
   "autoclose": false,
   "autocomplete": true,
   "bibliofile": "biblio.bib",
   "cite_by": "apalike",
   "current_citInitial": 1,
   "eqLabelWithNumbers": true,
   "eqNumInitial": 1,
   "hotkeys": {
    "equation": "Ctrl-E",
    "itemize": "Ctrl-I"
   },
   "labels_anchors": false,
   "latex_user_defs": false,
   "report_style_numbering": false,
   "user_envs_cfg": false
  },
  "toc": {
   "base_numbering": 1,
   "nav_menu": {},
   "number_sections": true,
   "sideBar": false,
   "skip_h1_title": false,
   "title_cell": "Table of Contents",
   "title_sidebar": "Contents",
   "toc_cell": false,
   "toc_position": {
    "height": "1152.67px",
    "left": "41px",
    "top": "110px",
    "width": "253.458px"
   },
   "toc_section_display": true,
   "toc_window_display": false
  },
  "varInspector": {
   "cols": {
    "lenName": 16,
    "lenType": 16,
    "lenVar": 40
   },
   "kernels_config": {
    "python": {
     "delete_cmd_postfix": "",
     "delete_cmd_prefix": "del ",
     "library": "var_list.py",
     "varRefreshCmd": "print(var_dic_list())"
    },
    "r": {
     "delete_cmd_postfix": ") ",
     "delete_cmd_prefix": "rm(",
     "library": "var_list.r",
     "varRefreshCmd": "cat(var_dic_list()) "
    }
   },
   "types_to_exclude": [
    "module",
    "function",
    "builtin_function_or_method",
    "instance",
    "_Feature"
   ],
   "window_display": false
  }
 },
 "nbformat": 4,
 "nbformat_minor": 4
}
